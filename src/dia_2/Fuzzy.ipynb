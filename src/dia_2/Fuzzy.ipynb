{
 "cells": [
  {
   "cell_type": "code",
   "execution_count": 1,
   "metadata": {},
   "outputs": [],
   "source": [
    "import pandas as pd\n",
    "from toolbox import Fuzzy"
   ]
  },
  {
   "cell_type": "code",
   "execution_count": 12,
   "metadata": {},
   "outputs": [],
   "source": [
    "def verifica_classe(altura):\n",
    "    if altura < 1.50:\n",
    "        return '100% baixo'\n",
    "    if altura > 1.50 and altura <= 1.75:\n",
    "        return str(Fuzzy.percent(1.50, 1.75, 1, 0, altura) * 100) + '% baixo'\n",
    "    if altura > 1.75 and altura <= 2.0:\n",
    "        return str(Fuzzy.percent(1.75, 2.0, 1, 0, altura) * 100) + '% médio' \n",
    "    if altura > 2.0:\n",
    "        return '100% alto'"
   ]
  },
  {
   "cell_type": "markdown",
   "metadata": {},
   "source": [
    "### Verificando valor"
   ]
  },
  {
   "cell_type": "code",
   "execution_count": 13,
   "metadata": {},
   "outputs": [
    {
     "name": "stdout",
     "output_type": "stream",
     "text": [
      "Insira sua altura: 1.56\n",
      "Você é 75.99999999999997% baixo\n"
     ]
    }
   ],
   "source": [
    "altura = float(input('Insira sua altura: '))\n",
    "\n",
    "print('Você é ' + str(verifica_classe(altura)))"
   ]
  }
 ],
 "metadata": {
  "kernelspec": {
   "display_name": "Python 3",
   "language": "python",
   "name": "python3"
  },
  "language_info": {
   "codemirror_mode": {
    "name": "ipython",
    "version": 3
   },
   "file_extension": ".py",
   "mimetype": "text/x-python",
   "name": "python",
   "nbconvert_exporter": "python",
   "pygments_lexer": "ipython3",
   "version": "3.6.1"
  }
 },
 "nbformat": 4,
 "nbformat_minor": 2
}
